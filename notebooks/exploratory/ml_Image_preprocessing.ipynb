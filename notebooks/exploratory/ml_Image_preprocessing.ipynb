{
 "cells": [
  {
   "cell_type": "markdown",
   "metadata": {},
   "source": [
    "# Image Pre-Processing\n",
    "## Hot to use Keras Image Generator with Custom functions and More\n",
    "The goal of this Kernel is to explain to the users how to utilize the Keras **Image-Preprocessing** libraries to generate batches of tensor image data with real-time data augmentation. <br>\n",
    "The data will be looped over (in batches). "
   ]
  },
  {
   "cell_type": "markdown",
   "metadata": {},
   "source": [
    "#### 1.0 - Loading Python Libraries"
   ]
  },
  {
   "cell_type": "code",
   "execution_count": 2,
   "metadata": {},
   "outputs": [],
   "source": [
    "# Data processing libraries\n",
    "import numpy as np # linear algebra\n",
    "import pandas as pd # data processing, CSV file I/O (e.g. pd.read_csv)\n",
    "\n",
    "# OS Utility libraries\n",
    "import os"
   ]
  },
  {
   "cell_type": "markdown",
   "metadata": {},
   "source": [
    "#### 2.0 - Loading the Datasets\n",
    "In this part of the Kernel we load the train and test datasets from the input folder"
   ]
  },
  {
   "cell_type": "code",
   "execution_count": 3,
   "metadata": {},
   "outputs": [
    {
     "name": "stdout",
     "output_type": "stream",
     "text": [
      "List of files in directory:  ['.gitkeep', 'aptos2019-blindness-detection.zip', 'sample_submission.csv', 'test.csv', 'test_images', 'test_images.zip', 'train.csv', 'train_images', 'train_images.zip'] \n",
      "\n"
     ]
    }
   ],
   "source": [
    "# Set the project baseline folder paths\n",
    "BASE_PATH = '../../data/raw/'\n",
    "TRAINING_DIR = \"../../data/raw/train_images/\"\n",
    "TESTING_DIR = \"../../data/raw/test_images/\"\n",
    "\n",
    "print('List of files in directory: ', os.listdir(BASE_PATH),'\\n')"
   ]
  },
  {
   "cell_type": "code",
   "execution_count": 4,
   "metadata": {},
   "outputs": [
    {
     "name": "stdout",
     "output_type": "stream",
     "text": [
      "Directory Information:  ['.gitkeep', 'aptos2019-blindness-detection.zip', 'sample_submission.csv', 'test.csv', 'test_images', 'test_images.zip', 'train.csv', 'train_images', 'train_images.zip'] \n",
      "\n",
      "Train directory first five files:  ['000c1434d8d7.png', '001639a390f0.png', '0024cdab0c1e.png', '002c21358ce6.png', '005b95c28852.png']\n",
      "Test directory first five files:  ['0005cfc8afb6.png', '003f0afdcd15.png', '006efc72b638.png', '00836aaacf06.png', '009245722fa4.png']\n"
     ]
    }
   ],
   "source": [
    "# Exploring the list of images in each especific folder\n",
    "print('Directory Information: ', os.listdir(BASE_PATH), '\\n')\n",
    "print('Train directory first five files: ', os.listdir(TRAINING_DIR)[:5])\n",
    "print('Test directory first five files: ',os.listdir(TESTING_DIR)[:5])"
   ]
  },
  {
   "cell_type": "code",
   "execution_count": 5,
   "metadata": {},
   "outputs": [
    {
     "name": "stdout",
     "output_type": "stream",
     "text": [
      "The train dataset shape is : 3662, 2\n",
      "The test dataset shape is  : 1928, 2\n"
     ]
    }
   ],
   "source": [
    "# Read the datasets from the input folders\n",
    "train = pd.read_csv(os.path.join(BASE_PATH, 'train.csv'))\n",
    "test = pd.read_csv(os.path.join(BASE_PATH, 'test.csv'))\n",
    "submit = pd.read_csv(os.path.join(BASE_PATH, 'sample_submission.csv'))\n",
    "\n",
    "print('The train dataset shape is : {}, {}'.format(train.shape[0], train.shape[1]))\n",
    "print('The test dataset shape is  : {}, {}'.format(test.shape[0], train.shape[1]))"
   ]
  },
  {
   "cell_type": "code",
   "execution_count": 8,
   "metadata": {},
   "outputs": [
    {
     "name": "stdout",
     "output_type": "stream",
     "text": [
      "<class 'pandas.core.frame.DataFrame'>\n",
      "RangeIndex: 3662 entries, 0 to 3661\n",
      "Data columns (total 2 columns):\n",
      "id_code      3662 non-null object\n",
      "diagnosis    3662 non-null int64\n",
      "dtypes: int64(1), object(1)\n",
      "memory usage: 57.3+ KB\n"
     ]
    }
   ],
   "source": [
    "# Print train dataset information\n",
    "train.info()"
   ]
  },
  {
   "cell_type": "code",
   "execution_count": 9,
   "metadata": {},
   "outputs": [
    {
     "name": "stdout",
     "output_type": "stream",
     "text": [
      "<class 'pandas.core.frame.DataFrame'>\n",
      "RangeIndex: 1928 entries, 0 to 1927\n",
      "Data columns (total 1 columns):\n",
      "id_code    1928 non-null object\n",
      "dtypes: object(1)\n",
      "memory usage: 15.1+ KB\n"
     ]
    }
   ],
   "source": [
    "# Print test dataset information\n",
    "test.info()"
   ]
  },
  {
   "cell_type": "code",
   "execution_count": null,
   "metadata": {},
   "outputs": [],
   "source": []
  }
 ],
 "metadata": {
  "kernelspec": {
   "display_name": "Python 3",
   "language": "python",
   "name": "python3"
  },
  "language_info": {
   "codemirror_mode": {
    "name": "ipython",
    "version": 3
   },
   "file_extension": ".py",
   "mimetype": "text/x-python",
   "name": "python",
   "nbconvert_exporter": "python",
   "pygments_lexer": "ipython3",
   "version": "3.7.3"
  }
 },
 "nbformat": 4,
 "nbformat_minor": 2
}
